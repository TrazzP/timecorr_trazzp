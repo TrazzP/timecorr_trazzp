{
 "cells": [
  {
   "cell_type": "code",
   "execution_count": 57,
   "metadata": {},
   "outputs": [],
   "source": [
    "import sys\n",
    "sys.path.append('/app')\n",
    "\n",
    "\n",
    "import timecorr as tc\n",
    "from timecorr.helpers import isfc, wisfc, mean_combine, corrmean_combine\n",
    "from scipy.io import loadmat\n",
    "import numpy as np\n",
    "import os\n",
    "import pandas as pd\n",
    "\n",
    "\n",
    "data_dir = os.path.join(os.getcwd(), '..', 'data')  # Set 'data' as the base directory\n",
    "pieman_name = 'pieman_ica100.mat'\n",
    "\n",
    "pieman_data = loadmat(os.path.join(data_dir, pieman_name))\n",
    "pieman_conds = ['intact', 'paragraph', 'word', 'rest']"
   ]
  },
  {
   "cell_type": "code",
   "execution_count": null,
   "metadata": {},
   "outputs": [
    {
     "name": "stdout",
     "output_type": "stream",
     "text": [
      "intact\n",
      "paragraph\n",
      "word\n",
      "rest\n"
     ]
    },
    {
     "data": {
      "text/plain": [
       "array([-0.03522197,  0.03922076,  0.01342824, -0.01872755,  0.07859677,\n",
       "        0.08456798, -0.0727923 ,  0.08848457,  0.05491342,  0.05452206,\n",
       "       -0.1391994 , -0.00358474,  0.01905989,  0.10287091, -0.02366811,\n",
       "       -0.07051669,  0.06540304,  0.07346352,  0.01225332,  0.00016829,\n",
       "       -0.01087129, -0.10410692, -0.00425774, -0.04864657,  0.0407936 ,\n",
       "        0.00402486,  0.07945377,  0.01340257, -0.04220577,  0.03780776,\n",
       "        0.04178692,  0.02494354,  0.04029221, -0.03034242, -0.00043642,\n",
       "        0.11022802, -0.03233886, -0.02963502, -0.04777991,  0.00965087,\n",
       "       -0.00287292, -0.08035903, -0.02502551,  0.00115543, -0.07716646,\n",
       "        0.0560601 ,  0.0783408 , -0.08966959,  0.01336825, -0.06732777,\n",
       "       -0.02594564, -0.00426677,  0.12411392, -0.02887228,  0.00722267,\n",
       "       -0.05527805, -0.07578671, -0.00802822, -0.0723528 , -0.02375832,\n",
       "        0.110846  , -0.00774773, -0.01894416, -0.10709821,  0.03562647,\n",
       "        0.00711914, -0.01089972,  0.06127714,  0.01994583, -0.04176524,\n",
       "        0.03050713, -0.0005107 ,  0.01144782, -0.02011674,  0.01678808,\n",
       "       -0.05936283,  0.04866774, -0.07184003, -0.04312369, -0.00161466,\n",
       "       -0.04096787, -0.01882432,  0.00503814, -0.02216854, -0.02570209,\n",
       "       -0.04365006,  0.00440547, -0.01456794, -0.03503131, -0.02113157,\n",
       "        0.02961991,  0.02209944, -0.01311591, -0.04485534, -0.01685597,\n",
       "       -0.03221204, -0.02172727, -0.05212571,  0.04168752, -0.02551375])"
      ]
     },
     "execution_count": 63,
     "metadata": {},
     "output_type": "execute_result"
    }
   ],
   "source": [
    "factors = 100\n",
    "cond = 'intact'\n",
    "\n",
    "data = []\n",
    "conds = []\n",
    "for c in pieman_conds:\n",
    "    print(c)\n",
    "    if c == 'paragraph':\n",
    "        if factors == 700:\n",
    "            next_data = list(map(lambda i: pieman_data[c][:, i][0], np.where(np.arange(pieman_data[c].shape[1]) != 3)[0]))\n",
    "        else:\n",
    "            next_data = list(map(lambda i: pieman_data[c][:, i][0], np.where(np.arange(pieman_data[c].shape[1]) != 0)[0]))\n",
    "    else:\n",
    "        next_data = list(map(lambda i: pieman_data[c][:, i][0], np.arange(pieman_data[c].shape[1])))\n",
    "    data.extend(next_data)\n",
    "    conds.extend([c]*len(next_data))\n",
    "\n",
    "#data = np.array(data, dtype=object)\n",
    "data_current = np.array(data[conds == cond])\n",
    "conds = np.array(conds)\n"
   ]
  }
 ],
 "metadata": {
  "kernelspec": {
   "display_name": "Python 3",
   "language": "python",
   "name": "python3"
  },
  "language_info": {
   "codemirror_mode": {
    "name": "ipython",
    "version": 3
   },
   "file_extension": ".py",
   "mimetype": "text/x-python",
   "name": "python",
   "nbconvert_exporter": "python",
   "pygments_lexer": "ipython3",
   "version": "3.12.7"
  }
 },
 "nbformat": 4,
 "nbformat_minor": 2
}
