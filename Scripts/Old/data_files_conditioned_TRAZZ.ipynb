{
 "cells": [
  {
   "cell_type": "code",
   "execution_count": 3,
   "metadata": {},
   "outputs": [
    {
     "data": {
      "text/plain": [
       "7"
      ]
     },
     "execution_count": 3,
     "metadata": {},
     "output_type": "execute_result"
    }
   ],
   "source": [
    "import sys\n",
    "sys.path.append('/app')\n",
    "\n",
    "\n",
    "import timecorr as tc\n",
    "from timecorr.helpers import isfc, wisfc, mean_combine, corrmean_combine\n",
    "from scipy.io import loadmat\n",
    "import numpy as np\n",
    "import os\n",
    "import pandas as pd\n",
    "\n",
    "\n",
    "data_dir = os.path.join(os.getcwd(), '..', 'data')  # Set 'data' as the base directory\n",
    "\n",
    "\n",
    "#Load datasets in to working memory.\n",
    "pieman_conds = ['intact', 'paragraph', 'word', 'rest']\n",
    "pieman_100 = loadmat(os.path.join(data_dir, 'pieman_ica100.mat'))\n",
    "pieman_700 = loadmat(os.path.join(data_dir, 'pieman_data.mat'))\n",
    "\n",
    "len(pieman_700)"
   ]
  },
  {
   "cell_type": "code",
   "execution_count": null,
   "metadata": {},
   "outputs": [
    {
     "name": "stdout",
     "output_type": "stream",
     "text": [
      "intact\n",
      "paragraph\n"
     ]
    },
    {
     "ename": "AttributeError",
     "evalue": "'numpy.ndarray' object has no attribute 'extend'",
     "output_type": "error",
     "traceback": [
      "\u001b[0;31m---------------------------------------------------------------------------\u001b[0m",
      "\u001b[0;31mAttributeError\u001b[0m                            Traceback (most recent call last)",
      "Cell \u001b[0;32mIn[5], line 16\u001b[0m\n\u001b[1;32m     13\u001b[0m     next_data_700 \u001b[38;5;241m=\u001b[39m \u001b[38;5;28mlist\u001b[39m(\u001b[38;5;28mmap\u001b[39m(\u001b[38;5;28;01mlambda\u001b[39;00m i: pieman_700[c][:, i][\u001b[38;5;241m0\u001b[39m], np\u001b[38;5;241m.\u001b[39marange(pieman_700[c]\u001b[38;5;241m.\u001b[39mshape[\u001b[38;5;241m1\u001b[39m])))\n\u001b[1;32m     14\u001b[0m     next_data_100 \u001b[38;5;241m=\u001b[39m \u001b[38;5;28mlist\u001b[39m(\u001b[38;5;28mmap\u001b[39m(\u001b[38;5;28;01mlambda\u001b[39;00m i: pieman_100[c][:, i][\u001b[38;5;241m0\u001b[39m], np\u001b[38;5;241m.\u001b[39marange(pieman_100[c]\u001b[38;5;241m.\u001b[39mshape[\u001b[38;5;241m1\u001b[39m])))\n\u001b[0;32m---> 16\u001b[0m \u001b[43mpieman_700_data_conditioned\u001b[49m\u001b[38;5;241;43m.\u001b[39;49m\u001b[43mextend\u001b[49m(next_data_700)\n\u001b[1;32m     17\u001b[0m pieman_100_data_conditioned\u001b[38;5;241m.\u001b[39mextend(next_data_100)\n\u001b[1;32m     18\u001b[0m conds_700\u001b[38;5;241m.\u001b[39mextend([c]\u001b[38;5;241m*\u001b[39m\u001b[38;5;28mlen\u001b[39m(next_data_700))\n",
      "\u001b[0;31mAttributeError\u001b[0m: 'numpy.ndarray' object has no attribute 'extend'"
     ]
    }
   ],
   "source": [
    "#Remove bad data from teh datafiles, save as numpy array\n",
    "pieman_100_data_conditioned = []\n",
    "pieman_700_data_conditioned = []\n",
    "conds_100 = []\n",
    "conds_700 = []\n",
    "\n",
    "for c in pieman_conds:\n",
    "    print(c)\n",
    "    if c == 'paragraph':\n",
    "        next_data_700 = list(map(lambda i: pieman_700[c][:, i][0], np.where(np.arange(pieman_700[c].shape[1]) != 3)[0]))\n",
    "        next_data_100 = list(map(lambda i: pieman_100[c][:, i][0], np.where(np.arange(pieman_100[c].shape[1]) != 0)[0]))\n",
    "    else:\n",
    "        next_data_700 = list(map(lambda i: pieman_700[c][:, i][0], np.arange(pieman_700[c].shape[1])))\n",
    "        next_data_100 = list(map(lambda i: pieman_100[c][:, i][0], np.arange(pieman_100[c].shape[1])))\n",
    "        \n",
    "    pieman_700_data_conditioned.extend(next_data_700)\n",
    "    pieman_100_data_conditioned.extend(next_data_100)\n",
    "    conds_700.extend([c]*len(next_data_700))\n",
    "    conds_100.extend([c]*len(next_data_100))\n",
    "    \n",
    "    #Convert to np array\n",
    "    pieman_700_data_conditioned = np.array(pieman_700_data_conditioned, dtype=object)\n",
    "    pieman_100_data_conditioned = np.array(pieman_100_data_conditioned, dtype=object)\n",
    "    conds_700 = np.array(conds_700)\n",
    "    conds_100 = np.array(conds_100)"
   ]
  }
 ],
 "metadata": {
  "kernelspec": {
   "display_name": "Python 3",
   "language": "python",
   "name": "python3"
  },
  "language_info": {
   "codemirror_mode": {
    "name": "ipython",
    "version": 3
   },
   "file_extension": ".py",
   "mimetype": "text/x-python",
   "name": "python",
   "nbconvert_exporter": "python",
   "pygments_lexer": "ipython3",
   "version": "3.12.7"
  }
 },
 "nbformat": 4,
 "nbformat_minor": 2
}
